{
  "nbformat": 4,
  "nbformat_minor": 0,
  "metadata": {
    "colab": {
      "name": "custom NER model using SpaCY V3.ipynb",
      "provenance": [],
      "authorship_tag": "ABX9TyP6io1rRVQaCLptqv+2KP0t",
      "include_colab_link": true
    },
    "kernelspec": {
      "name": "python3",
      "display_name": "Python 3"
    },
    "language_info": {
      "name": "python"
    }
  },
  "cells": [
    {
      "cell_type": "markdown",
      "metadata": {
        "id": "view-in-github",
        "colab_type": "text"
      },
      "source": [
        "<a href=\"https://colab.research.google.com/github/Vijayvj1/MachineLearning-Projects-/blob/master/custom_NER_model_using_SpaCY_V3.ipynb\" target=\"_parent\"><img src=\"https://colab.research.google.com/assets/colab-badge.svg\" alt=\"Open In Colab\"/></a>"
      ]
    },
    {
      "cell_type": "code",
      "metadata": {
        "id": "fKs6VdCHRgLJ"
      },
      "source": [
        "!python -m pip install -r /content/ner_demo/requirements.txt  #Spacy Environment Setup"
      ],
      "execution_count": null,
      "outputs": []
    },
    {
      "cell_type": "markdown",
      "metadata": {
        "id": "rvLaWOBKXVTK"
      },
      "source": [
        "**Step 1: Setting up Spacy Environment**"
      ]
    },
    {
      "cell_type": "code",
      "metadata": {
        "id": "gUdbJgksSPTB"
      },
      "source": [
        "!python -m spacy project /content/ner_demo/assets #Spacy Data Set Download"
      ],
      "execution_count": null,
      "outputs": []
    },
    {
      "cell_type": "markdown",
      "metadata": {
        "id": "_DwH_3akXf1O"
      },
      "source": [
        "**Step 2: Move the input to Assets Folder**\n",
        "\n",
        "\n",
        "1.   Follow the .json formet\n",
        "\n",
        "Example:\n",
        "\n",
        "```\n",
        "[\n",
        "    \"Who is Shaka Khan?\",\n",
        "    {\n",
        "      \"entities\":[\n",
        "        [\n",
        "          7,\n",
        "          17,\n",
        "          \"PERSON\"\n",
        "        ]\n",
        "      ]\n",
        "    }\n",
        "  ]\n",
        "```\n",
        "\n",
        "\n"
      ]
    },
    {
      "cell_type": "code",
      "metadata": {
        "colab": {
          "base_uri": "https://localhost:8080/"
        },
        "id": "FSbodDEpRlgC",
        "outputId": "2d57c287-16b6-459c-cdc6-88c36b7fbae6"
      },
      "source": [
        "#Check Spacy Version \n",
        "!python -m spacy info"
      ],
      "execution_count": 13,
      "outputs": [
        {
          "output_type": "stream",
          "text": [
            "2021-04-18 14:00:38.331492: I tensorflow/stream_executor/platform/default/dso_loader.cc:49] Successfully opened dynamic library libcudart.so.11.0\n",
            "\u001b[1m\n",
            "============================== Info about spaCy ==============================\u001b[0m\n",
            "\n",
            "spaCy version    3.0.5                         \n",
            "Location         /usr/local/lib/python3.7/dist-packages/spacy\n",
            "Platform         Linux-4.19.112+-x86_64-with-Ubuntu-18.04-bionic\n",
            "Python version   3.7.10                        \n",
            "Pipelines                                      \n",
            "\n"
          ],
          "name": "stdout"
        }
      ]
    },
    {
      "cell_type": "markdown",
      "metadata": {
        "id": "S7VyQ0p0YIjT"
      },
      "source": [
        "**Step 3: Convert the input json file to .Spacy file** \n",
        "\n",
        "\n",
        "1.   convert.py [ Code to Conver Json file to .spacy input formate file] \n",
        "2.   en [ Provide the path to json file ]\n",
        "\n"
      ]
    },
    {
      "cell_type": "code",
      "metadata": {
        "colab": {
          "base_uri": "https://localhost:8080/"
        },
        "id": "aXN5oofkSFMb",
        "outputId": "c901051d-391f-4874-b501-54e900c32149"
      },
      "source": [
        "!python /content/ner_demo/scripts/convert.py en /content/ner_demo/assets/train.json /content/ner_demo/corpus/train.spacy"
      ],
      "execution_count": 21,
      "outputs": [
        {
          "output_type": "stream",
          "text": [
            "2021-04-18 14:11:40.309184: I tensorflow/stream_executor/platform/default/dso_loader.cc:49] Successfully opened dynamic library libcudart.so.11.0\n"
          ],
          "name": "stdout"
        }
      ]
    },
    {
      "cell_type": "code",
      "metadata": {
        "colab": {
          "base_uri": "https://localhost:8080/"
        },
        "id": "dDzlrkncTvE-",
        "outputId": "aa8277aa-c5b3-4969-8586-792b94e97cac"
      },
      "source": [
        "!python /content/ner_demo/scripts/convert.py en /content/ner_demo/assets/dev.json /content/ner_demo/corpus/dev.spacy\n"
      ],
      "execution_count": 22,
      "outputs": [
        {
          "output_type": "stream",
          "text": [
            "2021-04-18 14:12:33.553801: I tensorflow/stream_executor/platform/default/dso_loader.cc:49] Successfully opened dynamic library libcudart.so.11.0\n"
          ],
          "name": "stdout"
        }
      ]
    },
    {
      "cell_type": "code",
      "metadata": {
        "colab": {
          "base_uri": "https://localhost:8080/"
        },
        "id": "Zh1NGfAxU2mt",
        "outputId": "06eba511-486a-4469-b4ed-2c6f273f38e7"
      },
      "source": [
        "!python -m spacy init config --lang en --pipeline ner /content/ner_demo/configs/config.cfg --force"
      ],
      "execution_count": 23,
      "outputs": [
        {
          "output_type": "stream",
          "text": [
            "2021-04-18 14:13:49.875417: I tensorflow/stream_executor/platform/default/dso_loader.cc:49] Successfully opened dynamic library libcudart.so.11.0\n",
            "\u001b[38;5;3m⚠ To generate a more effective transformer-based config (GPU-only),\n",
            "install the spacy-transformers package and re-run this command. The config\n",
            "generated now does not use transformers.\u001b[0m\n",
            "\u001b[38;5;4mℹ Generated config template specific for your use case\u001b[0m\n",
            "- Language: en\n",
            "- Pipeline: ner\n",
            "- Optimize for: efficiency\n",
            "- Hardware: CPU\n",
            "- Transformer: None\n",
            "\u001b[38;5;2m✔ Auto-filled config with all values\u001b[0m\n",
            "\u001b[38;5;2m✔ Saved config\u001b[0m\n",
            "/content/ner_demo/configs/config.cfg\n",
            "You can now add your data and train your pipeline:\n",
            "python -m spacy train config.cfg --paths.train ./train.spacy --paths.dev ./dev.spacy\n"
          ],
          "name": "stdout"
        }
      ]
    },
    {
      "cell_type": "code",
      "metadata": {
        "colab": {
          "base_uri": "https://localhost:8080/"
        },
        "id": "cch65U5nVJQH",
        "outputId": "e6f61ec2-5b57-4624-a0ee-cae10fab40f9"
      },
      "source": [
        "!python -m spacy train /content/ner_demo/configs/config.cfg --output /content/ner_demo/training/ --paths.train /content/ner_demo/corpus/train.spacy --paths.dev /content/ner_demo/corpus/dev.spacy --training.eval_frequency 10 --training.max_steps 100 --gpu-id -1"
      ],
      "execution_count": 24,
      "outputs": [
        {
          "output_type": "stream",
          "text": [
            "2021-04-18 14:15:43.481528: I tensorflow/stream_executor/platform/default/dso_loader.cc:49] Successfully opened dynamic library libcudart.so.11.0\n",
            "\u001b[38;5;4mℹ Using CPU\u001b[0m\n",
            "\u001b[1m\n",
            "=========================== Initializing pipeline ===========================\u001b[0m\n",
            "[2021-04-18 14:15:45,689] [INFO] Set up nlp object from config\n",
            "[2021-04-18 14:15:45,702] [INFO] Pipeline: ['tok2vec', 'ner']\n",
            "[2021-04-18 14:15:45,708] [INFO] Created vocabulary\n",
            "[2021-04-18 14:15:45,708] [INFO] Finished initializing nlp object\n",
            "[2021-04-18 14:15:45,813] [INFO] Initialized pipeline components: ['tok2vec', 'ner']\n",
            "\u001b[38;5;2m✔ Initialized pipeline\u001b[0m\n",
            "\u001b[1m\n",
            "============================= Training pipeline =============================\u001b[0m\n",
            "\u001b[38;5;4mℹ Pipeline: ['tok2vec', 'ner']\u001b[0m\n",
            "\u001b[38;5;4mℹ Initial learn rate: 0.001\u001b[0m\n",
            "E    #       LOSS TOK2VEC  LOSS NER  ENTS_F  ENTS_P  ENTS_R  SCORE \n",
            "---  ------  ------------  --------  ------  ------  ------  ------\n",
            "  0       0          0.00      7.90    0.00    0.00    0.00    0.00\n",
            " 10      10          0.11     71.07    0.00    0.00    0.00    0.00\n",
            " 20      20          0.65     22.44   50.00   50.00   50.00    0.50\n",
            " 30      30          0.22      6.38   80.00   66.67  100.00    0.80\n",
            " 40      40          0.00      0.00   80.00   66.67  100.00    0.80\n",
            " 50      50          0.00      0.00   80.00   66.67  100.00    0.80\n",
            " 60      60          0.00      0.00  100.00  100.00  100.00    1.00\n",
            " 70      70          0.00      0.00  100.00  100.00  100.00    1.00\n",
            " 80      80          0.00      0.00  100.00  100.00  100.00    1.00\n",
            " 90      90          0.00      0.00  100.00  100.00  100.00    1.00\n",
            "100     100          0.00      0.00  100.00  100.00  100.00    1.00\n",
            "\u001b[38;5;2m✔ Saved pipeline to output directory\u001b[0m\n",
            "/content/ner_demo/training/model-last\n"
          ],
          "name": "stdout"
        }
      ]
    },
    {
      "cell_type": "code",
      "metadata": {
        "colab": {
          "base_uri": "https://localhost:8080/"
        },
        "id": "BBu4biP1VlAz",
        "outputId": "bc006f02-0e3f-4c3e-c713-bc81cbd6516d"
      },
      "source": [
        "!python -m spacy /content/ner_demo/project run package"
      ],
      "execution_count": 25,
      "outputs": [
        {
          "output_type": "stream",
          "text": [
            "2021-04-18 14:17:36.327299: I tensorflow/stream_executor/platform/default/dso_loader.cc:49] Successfully opened dynamic library libcudart.so.11.0\n",
            "Usage: python -m spacy [OPTIONS] COMMAND [ARGS]...\n",
            "\n",
            "  spaCy Command-line Interface\n",
            "\n",
            "  DOCS: https://spacy.io/api/cli\n",
            "\n",
            "Options:\n",
            "  --install-completion [bash|zsh|fish|powershell|pwsh]\n",
            "                                  Install\n",
            "                                  completion for\n",
            "                                  the specified\n",
            "                                  shell.\n",
            "\n",
            "  --show-completion [bash|zsh|fish|powershell|pwsh]\n",
            "                                  Show completion\n",
            "                                  for the\n",
            "                                  specified shell,\n",
            "                                  to copy it or\n",
            "                                  customize the\n",
            "                                  installation.\n",
            "\n",
            "  --help                          Show this\n",
            "                                  message and\n",
            "                                  exit.\n",
            "\n",
            "\n",
            "Commands:\n",
            "  convert   Convert files into json or DocBin...\n",
            "  debug     Suite of helpful commands for...\n",
            "  download  Download compatible trained\n",
            "            pipeline...\n",
            "\n",
            "  evaluate  Evaluate a trained pipeline.\n",
            "  info      Print info about spaCy installation.\n",
            "  init      Commands for initializing configs...\n",
            "  package   Generate an installable Python...\n",
            "  pretrain  Pre-train the 'token-to-vector'...\n",
            "  project   Command-line interface for spaCy...\n",
            "  train     Train or update a spaCy pipeline.\n",
            "  validate  Validate the currently installed...\n"
          ],
          "name": "stdout"
        }
      ]
    },
    {
      "cell_type": "code",
      "metadata": {
        "colab": {
          "base_uri": "https://localhost:8080/"
        },
        "id": "pqFvQODxWAi8",
        "outputId": "7ef01506-a3c6-4ee7-c810-51eeaeb4cd40"
      },
      "source": [
        "!python -m spacy /content/ner_demo/project run /content/ner_demo/visualize-model"
      ],
      "execution_count": 29,
      "outputs": [
        {
          "output_type": "stream",
          "text": [
            "2021-04-18 14:20:07.750254: I tensorflow/stream_executor/platform/default/dso_loader.cc:49] Successfully opened dynamic library libcudart.so.11.0\n",
            "Usage: python -m spacy [OPTIONS] COMMAND [ARGS]...\n",
            "\n",
            "  spaCy Command-line Interface\n",
            "\n",
            "  DOCS: https://spacy.io/api/cli\n",
            "\n",
            "Options:\n",
            "  --install-completion [bash|zsh|fish|powershell|pwsh]\n",
            "                                  Install\n",
            "                                  completion for\n",
            "                                  the specified\n",
            "                                  shell.\n",
            "\n",
            "  --show-completion [bash|zsh|fish|powershell|pwsh]\n",
            "                                  Show completion\n",
            "                                  for the\n",
            "                                  specified shell,\n",
            "                                  to copy it or\n",
            "                                  customize the\n",
            "                                  installation.\n",
            "\n",
            "  --help                          Show this\n",
            "                                  message and\n",
            "                                  exit.\n",
            "\n",
            "\n",
            "Commands:\n",
            "  convert   Convert files into json or DocBin...\n",
            "  debug     Suite of helpful commands for...\n",
            "  download  Download compatible trained\n",
            "            pipeline...\n",
            "\n",
            "  evaluate  Evaluate a trained pipeline.\n",
            "  info      Print info about spaCy installation.\n",
            "  init      Commands for initializing configs...\n",
            "  package   Generate an installable Python...\n",
            "  pretrain  Pre-train the 'token-to-vector'...\n",
            "  project   Command-line interface for spaCy...\n",
            "  train     Train or update a spaCy pipeline.\n",
            "  validate  Validate the currently installed...\n"
          ],
          "name": "stdout"
        }
      ]
    },
    {
      "cell_type": "code",
      "metadata": {
        "colab": {
          "base_uri": "https://localhost:8080/",
          "height": 52
        },
        "id": "Q8gKpmo9WZFW",
        "outputId": "8bec3440-9ef8-4667-f9cf-ee2bbcda78d2"
      },
      "source": [
        "nlp1 = spacy.load(R\"/content/ner_demo/training/model-best\") #load the best model\n",
        "doc = nlp1(\"Who is Vijay??\") # input sample tex\n",
        "\n",
        "spacy.displacy.render(doc, style=\"ent\", jupyter=True) # display in Jupyter"
      ],
      "execution_count": 33,
      "outputs": [
        {
          "output_type": "display_data",
          "data": {
            "text/html": [
              "<span class=\"tex2jax_ignore\"><div class=\"entities\" style=\"line-height: 2.5; direction: ltr\">Who is \n",
              "<mark class=\"entity\" style=\"background: #aa9cfc; padding: 0.45em 0.6em; margin: 0 0.25em; line-height: 1; border-radius: 0.35em;\">\n",
              "    Vijay?\n",
              "    <span style=\"font-size: 0.8em; font-weight: bold; line-height: 1; border-radius: 0.35em; vertical-align: middle; margin-left: 0.5rem\">PERSON</span>\n",
              "</mark>\n",
              "?</div></span>"
            ],
            "text/plain": [
              "<IPython.core.display.HTML object>"
            ]
          },
          "metadata": {
            "tags": []
          }
        }
      ]
    },
    {
      "cell_type": "code",
      "metadata": {
        "colab": {
          "base_uri": "https://localhost:8080/",
          "height": 52
        },
        "id": "WwxcEYRJY95l",
        "outputId": "dd9180d1-3384-4bf4-8d3e-11dce7687468"
      },
      "source": [
        "nlp1 = spacy.load(R\"/content/ner_demo/training/model-best\") #load the best model\n",
        "doc = nlp1(\"I like CA\") # input sample tex\n",
        "\n",
        "spacy.displacy.render(doc, style=\"ent\", jupyter=True) # display in Jupyter"
      ],
      "execution_count": 34,
      "outputs": [
        {
          "output_type": "display_data",
          "data": {
            "text/html": [
              "<span class=\"tex2jax_ignore\"><div class=\"entities\" style=\"line-height: 2.5; direction: ltr\">I like \n",
              "<mark class=\"entity\" style=\"background: #ff9561; padding: 0.45em 0.6em; margin: 0 0.25em; line-height: 1; border-radius: 0.35em;\">\n",
              "    CA\n",
              "    <span style=\"font-size: 0.8em; font-weight: bold; line-height: 1; border-radius: 0.35em; vertical-align: middle; margin-left: 0.5rem\">LOC</span>\n",
              "</mark>\n",
              "</div></span>"
            ],
            "text/plain": [
              "<IPython.core.display.HTML object>"
            ]
          },
          "metadata": {
            "tags": []
          }
        }
      ]
    },
    {
      "cell_type": "code",
      "metadata": {
        "id": "kJYom5gTZE6N"
      },
      "source": [
        ""
      ],
      "execution_count": null,
      "outputs": []
    }
  ]
}